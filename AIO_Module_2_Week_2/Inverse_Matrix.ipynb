{
  "nbformat": 4,
  "nbformat_minor": 0,
  "metadata": {
    "colab": {
      "provenance": []
    },
    "kernelspec": {
      "name": "python3",
      "display_name": "Python 3"
    },
    "language_info": {
      "name": "python"
    }
  },
  "cells": [
    {
      "cell_type": "code",
      "source": [
        "import numpy as np"
      ],
      "metadata": {
        "id": "OTLkQLLla359"
      },
      "execution_count": 12,
      "outputs": []
    },
    {
      "cell_type": "markdown",
      "source": [
        "#Create Matrix"
      ],
      "metadata": {
        "id": "K6TApP-ljYIO"
      }
    },
    {
      "cell_type": "code",
      "source": [
        "matrix_a = np.array([[-2, 6], [8, -4]])"
      ],
      "metadata": {
        "id": "3fRgEQf_hcyU"
      },
      "execution_count": 13,
      "outputs": []
    },
    {
      "cell_type": "markdown",
      "source": [
        "#Calculate Det Value"
      ],
      "metadata": {
        "id": "rxFhAPJbjay6"
      }
    },
    {
      "cell_type": "code",
      "source": [
        "det = np.linalg.det(matrix_a)\n",
        "print(det)"
      ],
      "metadata": {
        "colab": {
          "base_uri": "https://localhost:8080/"
        },
        "id": "5YUxBRhDii8A",
        "outputId": "35a857c2-564a-46e3-a360-e52dd75f1bd7"
      },
      "execution_count": 15,
      "outputs": [
        {
          "output_type": "stream",
          "name": "stdout",
          "text": [
            "-39.99999999999998\n"
          ]
        }
      ]
    },
    {
      "cell_type": "markdown",
      "source": [
        "#Check Invertible Matrix"
      ],
      "metadata": {
        "id": "VEG5Yrtwjepv"
      }
    },
    {
      "cell_type": "code",
      "source": [
        "if det == 0:\n",
        "    raise ValueError(\"Matrix is not invertible\")"
      ],
      "metadata": {
        "id": "IwVAv15fikl7"
      },
      "execution_count": 18,
      "outputs": []
    },
    {
      "cell_type": "markdown",
      "source": [
        "#Calculate Inverse Matrix"
      ],
      "metadata": {
        "id": "SXejaD_5jhxq"
      }
    },
    {
      "cell_type": "code",
      "source": [
        "result = np.linalg.inv(matrix_a)\n",
        "print(result)"
      ],
      "metadata": {
        "colab": {
          "base_uri": "https://localhost:8080/"
        },
        "id": "fTUgm9Wzi0TA",
        "outputId": "62a969b7-59f2-463d-b2d2-678e3a08ab65"
      },
      "execution_count": 20,
      "outputs": [
        {
          "output_type": "stream",
          "name": "stdout",
          "text": [
            "[[0.1  0.15]\n",
            " [0.2  0.05]]\n"
          ]
        }
      ]
    },
    {
      "cell_type": "markdown",
      "source": [
        "##FULL CODE"
      ],
      "metadata": {
        "id": "N3SxybPdjVEA"
      }
    },
    {
      "cell_type": "code",
      "source": [
        "import numpy as np\n",
        "\n",
        "def inverse_matrix(matrix):\n",
        "    # Tính định thức của ma trận\n",
        "    det = np.linalg.det(matrix)\n",
        "\n",
        "    # Kiểm tra định thức có khác 0 không\n",
        "    if det == 0:\n",
        "        raise ValueError(\"Matrix is not invertible\")\n",
        "\n",
        "    # Tính ma trận nghịch đảo\n",
        "    result = np.linalg.inv(matrix)\n",
        "    return result\n",
        "\n",
        "# Ma trận A cho trước\n",
        "A = np.array([[-2, 6], [8, -4]])\n",
        "\n",
        "# Gọi hàm inverse_matrix\n",
        "try:\n",
        "    A_inv = inverse_matrix(A)\n",
        "    print(\"Ma trận nghịch đảo của A là:\")\n",
        "    print(A_inv)\n",
        "except ValueError as e:\n",
        "    print(e)"
      ],
      "metadata": {
        "colab": {
          "base_uri": "https://localhost:8080/"
        },
        "id": "iMLxePu0jA9a",
        "outputId": "22a51086-bc0e-4a37-f066-1ee361098a66"
      },
      "execution_count": 21,
      "outputs": [
        {
          "output_type": "stream",
          "name": "stdout",
          "text": [
            "Ma trận nghịch đảo của A là:\n",
            "[[0.1  0.15]\n",
            " [0.2  0.05]]\n"
          ]
        }
      ]
    }
  ]
}