{
  "nbformat": 4,
  "nbformat_minor": 0,
  "metadata": {
    "colab": {
      "provenance": []
    },
    "kernelspec": {
      "name": "python3",
      "display_name": "Python 3"
    },
    "language_info": {
      "name": "python"
    }
  },
  "cells": [
    {
      "cell_type": "code",
      "source": [
        "import numpy as np"
      ],
      "metadata": {
        "id": "OTLkQLLla359"
      },
      "execution_count": 22,
      "outputs": []
    },
    {
      "cell_type": "markdown",
      "source": [
        "#Tính eigenvalues và eigenvectors"
      ],
      "metadata": {
        "id": "K6TApP-ljYIO"
      }
    },
    {
      "cell_type": "code",
      "source": [
        "def compute_eigenvalues_eigenvectors(matrix):\n",
        "    # Tính eigenvalues và eigenvectors\n",
        "    eigenvalues, eigenvectors = np.linalg.eig(matrix)\n",
        "    return eigenvalues, eigenvectors"
      ],
      "metadata": {
        "id": "3fRgEQf_hcyU"
      },
      "execution_count": 23,
      "outputs": []
    },
    {
      "cell_type": "markdown",
      "source": [
        "#Chuẩn hóa các eigenvectors"
      ],
      "metadata": {
        "id": "rxFhAPJbjay6"
      }
    },
    {
      "cell_type": "code",
      "source": [
        "def normalize_eigenvectors(eigenvectors):\n",
        "    for i in range(eigenvectors.shape[1]):\n",
        "        eigenvectors[:, i] = eigenvectors[:, i] / np.linalg.norm(eigenvectors[:, i])\n",
        "    return eigenvectors"
      ],
      "metadata": {
        "id": "5YUxBRhDii8A"
      },
      "execution_count": 24,
      "outputs": []
    },
    {
      "cell_type": "markdown",
      "source": [
        "#Gọi hàm và in kết quả"
      ],
      "metadata": {
        "id": "VEG5Yrtwjepv"
      }
    },
    {
      "cell_type": "code",
      "source": [
        "# Ma trận A cho trước\n",
        "A = np.array([[0.9, 0.2], [0.1, 0.8]])\n",
        "\n",
        "# Tính eigenvalues và eigenvectors\n",
        "eigenvalues, eigenvectors = compute_eigenvalues_eigenvectors(A)\n",
        "\n",
        "# Chuẩn hóa eigenvectors\n",
        "eigenvectors = normalize_eigenvectors(eigenvectors)\n",
        "\n",
        "# In kết quả\n",
        "print(\"Eigenvalues:\")\n",
        "print(eigenvalues)\n",
        "print(\"Eigenvectors (đã được chuẩn hóa):\")\n",
        "print(eigenvectors)\n"
      ],
      "metadata": {
        "id": "IwVAv15fikl7",
        "colab": {
          "base_uri": "https://localhost:8080/"
        },
        "outputId": "e794ada9-2afe-488c-d997-2838f60a82b7"
      },
      "execution_count": 25,
      "outputs": [
        {
          "output_type": "stream",
          "name": "stdout",
          "text": [
            "Eigenvalues:\n",
            "[1.  0.7]\n",
            "Eigenvectors (đã được chuẩn hóa):\n",
            "[[ 0.89442719 -0.70710678]\n",
            " [ 0.4472136   0.70710678]]\n"
          ]
        }
      ]
    }
  ]
}