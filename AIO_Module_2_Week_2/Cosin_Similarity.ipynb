{
  "nbformat": 4,
  "nbformat_minor": 0,
  "metadata": {
    "colab": {
      "provenance": []
    },
    "kernelspec": {
      "name": "python3",
      "display_name": "Python 3"
    },
    "language_info": {
      "name": "python"
    }
  },
  "cells": [
    {
      "cell_type": "code",
      "source": [
        "import numpy as np"
      ],
      "metadata": {
        "id": "OTLkQLLla359"
      },
      "execution_count": 26,
      "outputs": []
    },
    {
      "cell_type": "markdown",
      "source": [
        "#Tính tích vô hướng của hai vector"
      ],
      "metadata": {
        "id": "K6TApP-ljYIO"
      }
    },
    {
      "cell_type": "code",
      "source": [
        "v1 = np.array([1, 2, 3, 4])\n",
        "v2 = np.array([1, 0, 3, 0])\n",
        "dot_product = np.dot(v1, v2)"
      ],
      "metadata": {
        "id": "3fRgEQf_hcyU"
      },
      "execution_count": 27,
      "outputs": []
    },
    {
      "cell_type": "markdown",
      "source": [
        "#Tính độ dài của từng vector"
      ],
      "metadata": {
        "id": "rxFhAPJbjay6"
      }
    },
    {
      "cell_type": "code",
      "source": [
        "norm_v1 = np.linalg.norm(v1)\n",
        "norm_v2 = np.linalg.norm(v2)"
      ],
      "metadata": {
        "id": "5YUxBRhDii8A"
      },
      "execution_count": 28,
      "outputs": []
    },
    {
      "cell_type": "markdown",
      "source": [
        "#Tính Cosine Similarity"
      ],
      "metadata": {
        "id": "VEG5Yrtwjepv"
      }
    },
    {
      "cell_type": "code",
      "source": [
        "cos_sim = dot_product / (norm_v1 * norm_v2)\n",
        "print(\"Cosine Similarity:\")\n",
        "print(cos_sim)"
      ],
      "metadata": {
        "id": "IwVAv15fikl7",
        "colab": {
          "base_uri": "https://localhost:8080/"
        },
        "outputId": "eeccb9c0-cf4d-4e42-a6c4-a8ac93f821fd"
      },
      "execution_count": 31,
      "outputs": [
        {
          "output_type": "stream",
          "name": "stdout",
          "text": [
            "Cosine Similarity:\n",
            "0.5773502691896257\n"
          ]
        }
      ]
    },
    {
      "cell_type": "markdown",
      "source": [
        "#FULL CODE"
      ],
      "metadata": {
        "id": "KRsJ91RuoHXe"
      }
    },
    {
      "cell_type": "code",
      "source": [
        "import numpy as np\n",
        "\n",
        "def compute_cosine(v1, v2):\n",
        "    dot_product = np.dot(v1, v2)\n",
        "\n",
        "    norm_v1 = np.linalg.norm(v1)\n",
        "    norm_v2 = np.linalg.norm(v2)\n",
        "\n",
        "    cos_sim = dot_product / (norm_v1 * norm_v2)\n",
        "\n",
        "    return cos_sim\n",
        "\n",
        "x = np.array([1, 2, 3, 4])\n",
        "y = np.array([1, 0, 3, 0])\n",
        "\n",
        "cosine_similarity = compute_cosine(x, y)\n",
        "print(\"Cosine Similarity:\")\n",
        "print(cosine_similarity)\n"
      ],
      "metadata": {
        "colab": {
          "base_uri": "https://localhost:8080/"
        },
        "id": "T4ew-yBfoCcv",
        "outputId": "c35ae6e2-272e-4e11-9f20-e9a7a614cdbd"
      },
      "execution_count": 30,
      "outputs": [
        {
          "output_type": "stream",
          "name": "stdout",
          "text": [
            "Cosine Similarity:\n",
            "0.5773502691896257\n"
          ]
        }
      ]
    }
  ]
}